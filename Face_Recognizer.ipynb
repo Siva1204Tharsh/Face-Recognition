{
 "cells": [
  {
   "cell_type": "code",
   "execution_count": 1,
   "metadata": {},
   "outputs": [],
   "source": [
    "import cv2 , os\n",
    "import numpy as np"
   ]
  },
  {
   "cell_type": "code",
   "execution_count": 2,
   "metadata": {},
   "outputs": [
    {
     "name": "stdout",
     "output_type": "stream",
     "text": [
      "Training...\n"
     ]
    },
    {
     "ename": "AttributeError",
     "evalue": "module 'cv2.face' has no attribute 'FisherFaceRecognizer_create'",
     "output_type": "error",
     "traceback": [
      "\u001b[1;31m---------------------------------------------------------------------------\u001b[0m",
      "\u001b[1;31mAttributeError\u001b[0m                            Traceback (most recent call last)",
      "Cell \u001b[1;32mIn[2], line 19\u001b[0m\n\u001b[0;32m     16\u001b[0m (width,height)\u001b[38;5;241m=\u001b[39m(\u001b[38;5;241m130\u001b[39m,\u001b[38;5;241m100\u001b[39m)\n\u001b[0;32m     17\u001b[0m (images,labels)\u001b[38;5;241m=\u001b[39m[np\u001b[38;5;241m.\u001b[39marray(lis) \u001b[38;5;28;01mfor\u001b[39;00m lis \u001b[38;5;129;01min\u001b[39;00m (images,labels)]\n\u001b[1;32m---> 19\u001b[0m model\u001b[38;5;241m=\u001b[39m\u001b[43mcv2\u001b[49m\u001b[38;5;241;43m.\u001b[39;49m\u001b[43mface\u001b[49m\u001b[38;5;241;43m.\u001b[39;49m\u001b[43mFisherFaceRecognizer_create\u001b[49m()\n\u001b[0;32m     20\u001b[0m model\u001b[38;5;241m.\u001b[39mtrain(images,labels)\n\u001b[0;32m     22\u001b[0m face_cascade\u001b[38;5;241m=\u001b[39mcv2\u001b[38;5;241m.\u001b[39mCascadeClassifier(haar_file)\n",
      "\u001b[1;31mAttributeError\u001b[0m: module 'cv2.face' has no attribute 'FisherFaceRecognizer_create'"
     ]
    }
   ],
   "source": [
    "haar_file='haarcascade_frontalface_default.xml'\n",
    "datasets='datasets'\n",
    "print('Training...')\n",
    "\n",
    "(images, labels,names,id )=([],[],{},0)  #{'name':name,'id':id}\n",
    "for (subdir, dirs, files) in os.walk(datasets):\n",
    "    for subdir in dirs:\n",
    "        names[id]=subdir\n",
    "        subjectpath=os.path.join(datasets,subdir)\n",
    "        for filename in os.listdir(subjectpath):\n",
    "            path=subjectpath+'/'+filename\n",
    "            label=id\n",
    "            images.append(cv2.imread(path,0))\n",
    "            labels.append(int(label))\n",
    "        id+=1\n",
    "(width,height)=(130,100)\n",
    "(images,labels)=[np.array(lis) for lis in (images,labels)]\n",
    "\n",
    "model=cv2.face.FisherFaceRecognizer_create()\n",
    "model.train(images,labels)\n",
    "\n",
    "face_cascade=cv2.CascadeClassifier(haar_file)\n",
    "\n",
    "webCam=cv2.VideoCapture(0)\n",
    "count=0\n",
    "while True:\n",
    "    ret,img=webCam.read()\n",
    "    gray=cv2.cvtColor(img,cv2.COLOR_BGR2GRAY)\n",
    "    faces=face_cascade.detectMultiScale(gray,1.3,5)\n",
    "\n",
    "    for (x,y,w,h) in faces:\n",
    "        face=gray[y:y+h,x:x+w]\n",
    "        face_resize=cv2.resize(face,(width,height))\n",
    "\n",
    "        prediction=model.predict(face_resize)\n",
    "        cv2.rectangle(img,(x,y),(x+w,y+h),(0,255,0),3)\n",
    "\n",
    "        if prediction[1] <800:\n",
    "            cv2.putText(img,'%s -%.0f'%(names[prediction[0]],prediction[1]),(x-10,y-10),cv2.FONT_HERSHEY_SIMPLEX,0.5,(0,255,0),2)\n",
    "            print(names[prediction[0]])\n",
    "            count=0\n",
    "        else:\n",
    "            count+=1\n",
    "            cv2.putText(img,'Unknown',(x-10,y-10),cv2.FONT_HERSHEY_PLAIN,1,(0,255,0),2)\n",
    "            if(count >100):\n",
    "                print('Face not found')\n",
    "                cv2.imwrite('input.jpg',img)\n",
    "                count=0\n",
    "    cv2.imshow('Face Recognition',img)\n",
    "    key=cv2.waitKey(1)\n",
    "    if key==ord('q'):\n",
    "        break\n",
    "webCam.release()\n",
    "cv2.destroyAllWindows()\n",
    "\n",
    "\n"
   ]
  }
 ],
 "metadata": {
  "kernelspec": {
   "display_name": "computervin",
   "language": "python",
   "name": "python3"
  },
  "language_info": {
   "codemirror_mode": {
    "name": "ipython",
    "version": 3
   },
   "file_extension": ".py",
   "mimetype": "text/x-python",
   "name": "python",
   "nbconvert_exporter": "python",
   "pygments_lexer": "ipython3",
   "version": "3.9.19"
  }
 },
 "nbformat": 4,
 "nbformat_minor": 2
}
